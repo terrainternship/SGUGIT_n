{
  "nbformat": 4,
  "nbformat_minor": 0,
  "metadata": {
    "colab": {
      "provenance": []
    },
    "kernelspec": {
      "name": "python3",
      "display_name": "Python 3"
    },
    "language_info": {
      "name": "python"
    }
  },
  "cells": [
    {
      "cell_type": "code",
      "execution_count": null,
      "metadata": {
        "colab": {
          "base_uri": "https://localhost:8080/"
        },
        "id": "a4oLE8USZlvE",
        "outputId": "a9996208-3441-485f-e3ee-966abdd46deb"
      },
      "outputs": [
        {
          "output_type": "stream",
          "name": "stdout",
          "text": [
            "Mounted at /content/drive/\n"
          ]
        }
      ],
      "source": [
        "# Подключение библиотек\n",
        "import cv2\n",
        "import numpy as np\n",
        "import os\n",
        "import matplotlib.pyplot as plt\n",
        "import matplotlib\n",
        "from google.colab import drive\n",
        "drive.mount('/content/drive/')"
      ]
    },
    {
      "cell_type": "code",
      "source": [
        "# ARC Аркадий Соловьев\n",
        "# Скрипт нарезки кадров для варианта нарезки кадров с нахлестом\n",
        "# Преобразование файлов к размеру 640х640 из входного размера 1920х1080\n",
        "# Из каждого входного фрейма получается 6 выходных фреймов\n",
        "\n",
        "# Пути к входным и выходным папкам\n",
        "input_dir = '/content/drive/MyDrive/1 Исходные файлы для Датасета 4.0/far/train/images'\n",
        "output_dir = '/content/drive/MyDrive/1 Датасет 4.0/far/train/images'\n",
        "\n",
        "# Размеры выходного кадра\n",
        "output_width, output_height = 640, 640\n",
        "\n",
        "# Размеры входного кадра при нарезке внахлест\n",
        "input_width, input_height = 1920, 1080\n",
        "\n",
        "# Размеры входного кадра при нарезке с растяжением исходного кадра\n",
        "# input_width, input_height = 1920, 1280\n",
        "\n",
        "# Шаг, с которым будут создаваться выходные фреймы с перекрытием\n",
        "step_x = output_width\n",
        "step_y = input_height - output_height\n",
        "\n",
        "# Функция для создания выходных фреймов с перекрытием по y и без перекрытия по x\n",
        "# Всего из одного входного фрейма получается 6 выходных фреймов\n",
        "def create_output_frames(input_frame):\n",
        "    output_frames = []\n",
        "    for y in range(0, input_height - output_height + 1, step_y):\n",
        "        for x in range(0, input_width, step_x):\n",
        "            output_frame = input_frame[y:y+output_height, x:x+output_width]\n",
        "            output_frames.append(output_frame)\n",
        "    return output_frames\n",
        "\n",
        "# Создать новую папку, если она не существует и удалить, если существует\n",
        "if os.path.exists(output_dir): # Если папка существует\n",
        "    # Получаем список файлов в папке\n",
        "    file_list = os.listdir(output_dir)\n",
        "    # Проходим по каждому файлу и удаляем его\n",
        "    for file_name in file_list:\n",
        "        file_path = os.path.join(output_dir, file_name)\n",
        "        if os.path.isfile(file_path):\n",
        "            os.remove(file_path)           # Удалить файл\n",
        "    os.rmdir(output_dir)            # удалить папку\n",
        "if not os.path.exists(output_dir):  # Если папка не существует\n",
        "    os.makedirs(output_dir)         # создать папку\n",
        "\n",
        "# Обход исходных кадров и создание нарезанных кадров\n",
        "for filename in os.listdir(input_dir):\n",
        "    if filename.endswith('.jpg') or filename.endswith('.png'):\n",
        "        input_path = os.path.join(input_dir, filename)\n",
        "        input_frame = cv2.imread(input_path)\n",
        "\n",
        "        # Изменение размера входного фрейма\n",
        "        input_frame = cv2.resize(input_frame, (input_width, input_height))\n",
        "\n",
        "        # Создание выходных фреймов с перекрытием по оси Y\n",
        "        output_frames = create_output_frames(input_frame)\n",
        "\n",
        "        # Сохранение выходных фреймов\n",
        "        for i, output_frame in enumerate(output_frames):\n",
        "            if filename.endswith('.png'):\n",
        "                output_filename = f\"{os.path.splitext(filename)[0]}_{i}.png\"\n",
        "            if filename.endswith('.jpg'):\n",
        "                output_filename = f\"{os.path.splitext(filename)[0]}_{i}.jpg\"\n",
        "            output_path = os.path.join(output_dir, output_filename)\n",
        "            cv2.imwrite(output_path, output_frame)# Пути к исходным и выходным папкам\n"
      ],
      "metadata": {
        "id": "MsBSiKojZ5UD"
      },
      "execution_count": null,
      "outputs": []
    }
  ]
}