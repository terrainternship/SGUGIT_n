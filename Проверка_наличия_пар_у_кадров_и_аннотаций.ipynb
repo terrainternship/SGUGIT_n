{
  "nbformat": 4,
  "nbformat_minor": 0,
  "metadata": {
    "colab": {
      "provenance": []
    },
    "kernelspec": {
      "name": "python3",
      "display_name": "Python 3"
    },
    "language_info": {
      "name": "python"
    }
  },
  "cells": [
    {
      "cell_type": "code",
      "execution_count": null,
      "metadata": {
        "colab": {
          "base_uri": "https://localhost:8080/"
        },
        "id": "lsLp2CfWx7D9",
        "outputId": "4f712e7e-b58f-405e-f737-b9bd6879fcfc"
      },
      "outputs": [
        {
          "output_type": "stream",
          "name": "stdout",
          "text": [
            "Drive already mounted at /content/drive/; to attempt to forcibly remount, call drive.mount(\"/content/drive/\", force_remount=True).\n"
          ]
        }
      ],
      "source": [
        "import os\n",
        "import shutil\n",
        "\n",
        "from google.colab import drive\n",
        "drive.mount('/content/drive/')"
      ]
    },
    {
      "cell_type": "code",
      "source": [
        "# Скрипт проверки наличия пар у файлов изображений и файлов аннотаций с одинаковыми именами\n",
        "# Аркадий Соловьев\n",
        "\n",
        "# Задаем пути к папкам с изображениями и текстовыми файлами\n",
        "image_folder = \"/content/drive/MyDrive/1 Датасет 4.0/far/train/images\"\n",
        "text_folder = \"/content/drive/MyDrive/1 Датасет 4.0/far/train/labels\"\n",
        "\n",
        "# Получаем список файлов с изображениями\n",
        "image_files = [f for f in os.listdir(image_folder) if f.endswith((\".png\", \".jpg\"))]\n",
        "\n",
        "# Получаем список файлов с текстовыми файлами\n",
        "text_files = [f for f in os.listdir(text_folder) if f.endswith(\".txt\")]\n",
        "\n",
        "# Находим файлы изображений, для которых нет пары в текстовых файлах аннотаций\n",
        "for image_file in image_files:\n",
        "    image_name = os.path.splitext(image_file)[0]  # Имя файла без расширения\n",
        "    text_file = image_name + \".txt\"  # Путь к текстовому файлу с таким же именем\n",
        "\n",
        "    if text_file not in text_files:  # Если такого текстового файла нет\n",
        "        # Создаем пустой текстовый файл (Это полезно для обучения сети)\n",
        "        open(os.path.join(text_folder, text_file), 'w').close()\n",
        "        print(f\"Создан текстовый файл {text_file}\")\n",
        "\n",
        "# Находим текстовые файлы, для которых нет пары в папке с изображениями\n",
        "for text_file in text_files:\n",
        "    text_name = os.path.splitext(text_file)[0]  # Имя файла без расширения\n",
        "    image_file = text_name + \".jpg\"  # Путь к изображению с таким же именем\n",
        "\n",
        "    # Проверяем, существует ли изображение с таким именем и расширением \".jpg\"\n",
        "    if image_file not in image_files:\n",
        "        image_file = text_name + \".png\"  # Путь к изображению с расширением \".png\"\n",
        "\n",
        "        if image_file not in image_files:\n",
        "            # Если такого изображения нет, удаляем текстовый файл\n",
        "            os.remove(os.path.join(text_folder, text_file))\n",
        "            print(f\"Удален текстовый файл {text_file}\")"
      ],
      "metadata": {
        "id": "6h7TUrSIyaxn"
      },
      "execution_count": null,
      "outputs": []
    }
  ]
}