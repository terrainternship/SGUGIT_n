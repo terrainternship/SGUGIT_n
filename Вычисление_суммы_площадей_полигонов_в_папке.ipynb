{
  "nbformat": 4,
  "nbformat_minor": 0,
  "metadata": {
    "colab": {
      "provenance": []
    },
    "kernelspec": {
      "name": "python3",
      "display_name": "Python 3"
    },
    "language_info": {
      "name": "python"
    }
  },
  "cells": [
    {
      "cell_type": "code",
      "execution_count": null,
      "metadata": {
        "colab": {
          "base_uri": "https://localhost:8080/"
        },
        "id": "L7CfhGHHyukq",
        "outputId": "46a0baef-ce88-4ca7-d59f-dcfbb5eec7bd"
      },
      "outputs": [
        {
          "output_type": "stream",
          "name": "stdout",
          "text": [
            "Mounted at /content/drive/\n"
          ]
        }
      ],
      "source": [
        "from google.colab import drive\n",
        "drive.mount('/content/drive/')  # Получить доступ к диску в колабе\n",
        "import os\n",
        "import cv2"
      ]
    },
    {
      "cell_type": "code",
      "source": [
        "# Программа вычисления суммы площадей полигонов по классам в пределах выбранной\n",
        "# папки. Площадь суммы полигонов приведена к размерам кадра 640 х 640 пикселей.\n",
        "# Arc Аркадий Соловьев\n",
        "# Для определения размера полигона необходимо указать путь к папке\n",
        "# annotation_folder с файлами аннотации.\n",
        "# Для определения текущего размера  кадра необходимо указать путь к любому файлу .jpg,\n",
        "# для которого есть аннотация в папке annotation_folder.\n",
        "\n",
        "def calculate_polygon_area(vertices):  # Функция вычисления площади полигонов\n",
        "    n = len(vertices)                  # Число вершин полигона\n",
        "    if n < 3:    # Если число верши полигона меньше 3 его площадь не вычисляется\n",
        "        return 0\n",
        "\n",
        "    area = 0     # Площадь полигона\n",
        "    j = n - 1\n",
        "\n",
        "    for i in range(n):                 # Вычисление площади полигона\n",
        "        x1, y1 = vertices[i]\n",
        "        x2, y2 = vertices[j]\n",
        "        area += (x1 + x2) * (y2 - y1)\n",
        "        j = i\n",
        "\n",
        "    return abs(area) / 2.0 # Функция возвращает площадь полигона\n",
        "\n",
        "# Инициализируем словарь для хранения суммарных площадей по классам\n",
        "class_areas = {}\n",
        "\n",
        "# Инициализируем словарь для хранения количества размеченных объектов (полигонов) по классам\n",
        "class_number = {}\n",
        "\n",
        "# Папка с файлами аннотации\n",
        "annotation_folder = \"/content/drive/MyDrive/1 Датасет 4.0/far/train/labels\"  # Указать путь к папке с файлами аннотации\n",
        "\n",
        "# Указать путь к любому файлу для которого есть аннотация в папке annotation_folder:\n",
        "image_file = \"/content/drive/MyDrive/1 Датасет 4.0/Close/train/images/DJI_0316_frame_1230_0.png\"\n",
        "\n",
        "# Определить размеры изображения, для которого есть файл аннотации\n",
        "img = cv2.imread(image_file)       # Прочитать файл изображения\n",
        "h, w, c = img.shape                # h - высота, w - ширина, c - число каналов цвета\n",
        "\n",
        "factor_size = h * w/ 640 ** 2      # Поправочный коэффициент, учитывает отличие размера файла от 640 х 640\n",
        "\n",
        "# Шаг 1: Пройдем по всем файлам аннотации в папке\n",
        "for filename in os.listdir(annotation_folder):\n",
        "    if filename.endswith(\".txt\"):\n",
        "        # Получаем полный путь к файлу аннотации\n",
        "        annotation_file = os.path.join(annotation_folder, filename)\n",
        "\n",
        "        # Шаг 2: Прочитаем файл аннотации\n",
        "        with open(annotation_file, \"r\") as file:\n",
        "            annotation_data = file.read().strip()\n",
        "\n",
        "        # Шаг 3: Разберем информацию о полигоне и классе объекта\n",
        "        lines = annotation_data.split(\"\\n\")   # Строки в файле аннотации\n",
        "        for line in lines:\n",
        "            parts = line.split()  # Разделение строки на части по пробелам\n",
        "            if len(parts) >= 5:\n",
        "                class_name = parts[0]  # Идентификатор имени класса (первое число в строке)\n",
        "                polygon_data = [float(part) for part in parts[1:]]  # Преобразуем строки в числа\n",
        "                # Список пар x, y координат вершин полигона\n",
        "                x_y_pairs = [(polygon_data[i], polygon_data[i+1]) for i in range(0, len(polygon_data), 2)]\n",
        "\n",
        "                # Шаг 4: Вычислим площадь полигона\n",
        "                area = calculate_polygon_area(x_y_pairs)\n",
        "\n",
        "                # Шаг 5: Обновим суммарную площадь и количество элементов (полигонов) для данного класса\n",
        "                if class_name in class_areas:  # Если класс с именем class_name существует\n",
        "                    class_areas[class_name] += area  # Увеличить его площадь\n",
        "                else:\n",
        "                    class_areas[class_name] = area   # Создать новый класс\n",
        "\n",
        "                if class_name in class_number:  # Если класс с именем class_name существует\n",
        "                    class_number[class_name] += 1  # Увеличить число элементов класса\n",
        "                else:\n",
        "                    class_number[class_name] = 1   # Число элементов в классе равно 1\n",
        "\n",
        "# Шаг 6: Выведем суммарное количество полигонов и суммарные площади полигонов для каждого класса\n",
        "print(' Суммарная площадь полигонов (в условных единицах) приведена к размеру кадра 640 х 640 пикселей (коэффициент factor_size)')\n",
        "for i in class_number.keys():\n",
        "    print(f\" Класс объекта: {i} количество полигонов = {class_number[i]:>3}, суммарная площадь полигонов = {class_areas[i] * factor_size:>7.3f}\")\n"
      ],
      "metadata": {
        "colab": {
          "base_uri": "https://localhost:8080/"
        },
        "id": "ZQN9TOBNyytK",
        "outputId": "f21222d3-e5ba-4157-862d-6d548a22f558"
      },
      "execution_count": null,
      "outputs": [
        {
          "output_type": "stream",
          "name": "stdout",
          "text": [
            " Суммарная площадь полигонов (в условных единицах) приведена к размеру кадра 640 х 640 пикселей (коэффициент factor_size)\n",
            " Класс объекта: 0 количество полигонов = 16336, суммарная площадь полигонов = 557.076\n",
            " Класс объекта: 1 количество полигонов = 7751, суммарная площадь полигонов = 326.597\n"
          ]
        }
      ]
    }
  ]
}