{
  "nbformat": 4,
  "nbformat_minor": 0,
  "metadata": {
    "colab": {
      "provenance": []
    },
    "kernelspec": {
      "name": "python3",
      "display_name": "Python 3"
    },
    "language_info": {
      "name": "python"
    }
  },
  "cells": [
    {
      "cell_type": "code",
      "execution_count": null,
      "metadata": {
        "colab": {
          "base_uri": "https://localhost:8080/"
        },
        "id": "oinqVTW7NcOS",
        "outputId": "ded9717b-46f5-448d-b16e-7a4ca10787d8"
      },
      "outputs": [
        {
          "output_type": "stream",
          "name": "stdout",
          "text": [
            "Mounted at /content/drive/\n"
          ]
        }
      ],
      "source": [
        "import os\n",
        "import random\n",
        "import shutil\n",
        "\n",
        "from google.colab import drive\n",
        "drive.mount('/content/drive/')"
      ]
    },
    {
      "cell_type": "code",
      "source": [
        "# Программа разбиения файлов кадров и аннотаций на папки train и valid\n",
        "# с заданным процентом файлов для выборки valid\n",
        "# Arc Аркадий Соловьев\n",
        "\n",
        "# Путь к исходной папке с кадрами\n",
        "images_path = '/content/drive/MyDrive/Dataset 4.общий/train/images'\n",
        "# Путь к исходной папке с аннотациями\n",
        "labels_path = '/content/drive/MyDrive/Dataset 4.общий/train/labels'\n",
        "# Путь к новой папке train\n",
        "train_path = '/content/drive/MyDrive/1 Датасет 4.1/train'\n",
        "# Путь к новой папке valid\n",
        "valid_path = '/content/drive/MyDrive/1 Датасет 4.1/valid'\n",
        "# Процент файлов для выборки valid\n",
        "valid_percent = 20\n",
        "\n",
        "# Создаем новые папки train и valid\n",
        "os.makedirs(os.path.join(train_path, 'images'), exist_ok=True)\n",
        "os.makedirs(os.path.join(train_path, 'labels'), exist_ok=True)\n",
        "os.makedirs(os.path.join(valid_path, 'images'), exist_ok=True)\n",
        "os.makedirs(os.path.join(valid_path, 'labels'), exist_ok=True)\n",
        "\n",
        "# Получаем список файлов кадров\n",
        "image_files = [f for f in os.listdir(images_path) if f.endswith('.png') or f.endswith('.jpg')]\n",
        "# Получаем список файлов аннотаций\n",
        "label_files = [f for f in os.listdir(labels_path) if f.endswith('.txt')]\n",
        "\n",
        "# Вычисляем количество файлов для выборки valid\n",
        "valid_count = int(len(image_files) * valid_percent / 100)\n",
        "\n",
        "# Выбираем случайным образом файлы для выборки valid\n",
        "valid_files = random.sample(image_files, valid_count)\n",
        "\n",
        "# Копируем файлы кадров и аннотаций в папки train и valid\n",
        "for image_file in image_files:\n",
        "    label_file = image_file[:-4] + '.txt'\n",
        "    if image_file in valid_files:\n",
        "        shutil.copy(os.path.join(images_path, image_file), os.path.join(valid_path, 'images', image_file))\n",
        "        shutil.copy(os.path.join(labels_path, label_file), os.path.join(valid_path, 'labels', label_file))\n",
        "    else:\n",
        "        shutil.copy(os.path.join(images_path, image_file), os.path.join(train_path, 'images', image_file))\n",
        "        shutil.copy(os.path.join(labels_path, label_file), os.path.join(train_path, 'labels', label_file))\n",
        "\n",
        "print('Разделение файлов завершено!')"
      ],
      "metadata": {
        "colab": {
          "base_uri": "https://localhost:8080/"
        },
        "id": "H3mZsMq6NtV-",
        "outputId": "5b3094b3-f940-4501-8aa2-67a11edd258e"
      },
      "execution_count": null,
      "outputs": [
        {
          "output_type": "stream",
          "name": "stdout",
          "text": [
            "Разделение файлов завершено!\n"
          ]
        }
      ]
    }
  ]
}