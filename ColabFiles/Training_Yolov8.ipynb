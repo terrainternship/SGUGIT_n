{
 "cells": [
  {
   "cell_type": "code",
   "execution_count": null,
   "metadata": {
    "collapsed": true
   },
   "outputs": [],
   "source": [
    "from pathlib import Path\n",
    "from google.colab import drive\n",
    "\n",
    "# Подключение Google Drive\n",
    "drive.mount('/content/drive')"
   ]
  },
  {
   "cell_type": "code",
   "execution_count": null,
   "outputs": [],
   "source": [
    "%pip install ultralytics\n",
    "import ultralytics\n",
    "ultralytics.checks()"
   ],
   "metadata": {
    "collapsed": false
   }
  },
  {
   "cell_type": "code",
   "execution_count": null,
   "outputs": [],
   "source": [
    "results_path = '/content/drive/MyDrive/Университет ИИ/Стажировка/Weights/Yolov8/CloseMeduim2_1_Train_Valid10'\n",
    "\n",
    "# Load YOLOv8n-seg, train it on COCO128-seg for 3 epochs and predict an image with it\n",
    "from ultralytics import YOLO\n",
    "\n",
    "model = YOLO('/content/drive/MyDrive/Университет ИИ/Стажировка/Weights/Yolov8/1 Датасет 4.1/runs_dataset4.1_pt_0.8_rep1/weights/best.pt')  # load a pretrained YOLOv8n segmentation model\n",
    "results = model.train(data='/content/drive/MyDrive/Университет ИИ/Стажировка/DataSets/CloseMeduim2.1_Train_Valid10/data.yaml',\n",
    "    epochs=70,\n",
    "    device=0,\n",
    "    imgsz = 1080,\n",
    "    iou = 0.8,\n",
    "    name='runs_dataset4.1_CloseMeduim2.1_0.8',\n",
    "    project = results_path,\n",
    "   exist_ok = True)  # train the model\n",
    "\n",
    "\n",
    "#class_weights = class_weight.compute_class_weight('balanced',classes=np.unique(y1_train),y=y1_train)\n",
    "#history1 = model.fit(X1_train, y1_train,\n",
    "#                     validation_data=[X1_val, y1_val],\n",
    "#                     batch_size=64, epochs=30, verbose=1, shuffle=True,\n",
    "#                     class_weight={0:class_weights[0],1:class_weights[1]},\n",
    "#                     callbacks = [e_stop, save_best_w]\n",
    "\n",
    "# Установка пути для сохранения результатов\n",
    "#results.results_dir = results_path\n",
    "\n",
    "# Сохранение результатов обучения\n",
    "#results.save()"
   ],
   "metadata": {
    "collapsed": false
   }
  }
 ],
 "metadata": {
  "kernelspec": {
   "display_name": "Python 3",
   "language": "python",
   "name": "python3"
  },
  "language_info": {
   "codemirror_mode": {
    "name": "ipython",
    "version": 2
   },
   "file_extension": ".py",
   "mimetype": "text/x-python",
   "name": "python",
   "nbconvert_exporter": "python",
   "pygments_lexer": "ipython2",
   "version": "2.7.6"
  }
 },
 "nbformat": 4,
 "nbformat_minor": 0
}
