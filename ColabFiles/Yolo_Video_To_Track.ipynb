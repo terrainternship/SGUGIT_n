{
 "cells": [
  {
   "cell_type": "code",
   "execution_count": null,
   "metadata": {
    "collapsed": true
   },
   "outputs": [],
   "source": [
    "from pathlib import Path\n",
    "from google.colab import drive\n",
    "\n",
    "# Подключение Google Drive\n",
    "drive.mount('/content/drive')"
   ]
  },
  {
   "cell_type": "code",
   "execution_count": null,
   "outputs": [],
   "source": [
    "%pip install ultralytics\n",
    "import ultralytics\n",
    "ultralytics.checks()"
   ],
   "metadata": {
    "collapsed": false
   }
  },
  {
   "cell_type": "code",
   "execution_count": null,
   "outputs": [],
   "source": [
    "from google.colab.patches import cv2_imshow\n",
    "import cv2\n",
    "from ultralytics import YOLO\n",
    "\n",
    "# Загрузка модели YOLOv8\n",
    "model = YOLO('/content/drive/MyDrive/Университет ИИ/Стажировка/Weights/Yolov8/CloseMeduim2_1_Train_Valid10/runs_dataset4.1_CloseMeduim2.1_0.8/weights/best.pt')  # Или путь к вашей обученной модели\n",
    "\n",
    "# Открытие видеофайла\n",
    "video_path = \"/content/drive/MyDrive/Университет ИИ/Стажировка/Video/DJI_0334.MP4\"  # Укажите путь к вашему видео\n",
    "cap = cv2.VideoCapture(video_path)\n",
    "total_frames = int(cap.get(cv2.CAP_PROP_FRAME_COUNT))\n",
    "\n",
    "# Определение параметров для сохранения видео\n",
    "fourcc = cv2.VideoWriter_fourcc(*'mp4v')\n",
    "out = cv2.VideoWriter('/content/drive/MyDrive/Университет ИИ/Стажировка/Video/bytetrack_result_det_dataset4.1_CloseMeduim2.1_pt_08.mp4', fourcc, 30.0, (int(cap.get(3)), int(cap.get(4))))\n",
    "\n",
    "# Перебор кадров видео\n",
    "while cap.isOpened():\n",
    "    success, frame = cap.read()\n",
    "    if success:\n",
    "        # Выполнение трекинга с помощью YOLOv8 на кадре\n",
    "        results = model.track(frame, persist=True, tracker='bytetrack.yaml')\n",
    "\n",
    "        # Визуализация результатов на кадре\n",
    "        annotated_frame = results[0].plot()\n",
    "\n",
    "        # Сохранение аннотированного кадра\n",
    "        out.write(annotated_frame)\n",
    "\n",
    "        # Отображение аннотированного кадра\n",
    "        #cv2_imshow(annotated_frame)\n",
    "\n",
    "        # Выход из цикла при нажатии клавиши 'q'\n",
    "        if cv2.waitKey(1) & 0xFF == ord(\"q\"):\n",
    "            break\n",
    "    else:\n",
    "        # Выход из цикла при достижении конца видео\n",
    "        break\n",
    "\n",
    "# Закрытие объекта захвата видео и окна отображения\n",
    "cap.release()\n",
    "out.release()\n",
    "cv2.destroyAllWindows()"
   ],
   "metadata": {
    "collapsed": false
   }
  }
 ],
 "metadata": {
  "kernelspec": {
   "display_name": "Python 3",
   "language": "python",
   "name": "python3"
  },
  "language_info": {
   "codemirror_mode": {
    "name": "ipython",
    "version": 2
   },
   "file_extension": ".py",
   "mimetype": "text/x-python",
   "name": "python",
   "nbconvert_exporter": "python",
   "pygments_lexer": "ipython2",
   "version": "2.7.6"
  }
 },
 "nbformat": 4,
 "nbformat_minor": 0
}
