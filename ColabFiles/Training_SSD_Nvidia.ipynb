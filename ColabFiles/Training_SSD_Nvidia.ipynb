{
 "cells": [
  {
   "cell_type": "code",
   "execution_count": null,
   "outputs": [],
   "source": [
    "# Установка зависимостей\n",
    "!pip install torch torchvision\n",
    "!pip install numpy opencv-python\n",
    "\n",
    "# Клонирование репозитория с реализацией SSD от Nvidia\n",
    "!git clone https://github.com/NVIDIA/DeepLearningExamples.git\n",
    "%cd DeepLearningExamples/PyTorch/Detection/SSD\n",
    "\n",
    "# Подключение Google Drive\n",
    "from google.colab import drive\n",
    "drive.mount('/content/drive')"
   ],
   "metadata": {
    "collapsed": false
   }
  },
  {
   "cell_type": "code",
   "execution_count": null,
   "outputs": [],
   "source": [
    "import torch\n",
    "from src.model import SSD300, Loss\n",
    "from torch.utils.data import DataLoader\n",
    "from torchvision import datasets, transforms\n",
    "\n",
    "# Функция для сохранения модели\n",
    "def save_model(epoch, model, path):\n",
    "    filename = f'model_epoch_{epoch}.pth'\n",
    "    torch.save(model.state_dict(), os.path.join(path, filename))\n",
    "    print(f'Model saved: {filename}')\n",
    "\n",
    "# Путь к вашему датасету на Google Drive\n",
    "dataset_path = '/content/drive/My Drive/path_to_your_dataset'\n",
    "\n",
    "# Настройка параметров, аналогичных YOLOv8\n",
    "epochs = 70\n",
    "device = torch.device(\"cuda:0\" if torch.cuda.is_available() else \"cpu\")\n",
    "img_size = 1080\n",
    "iou_threshold = 0.8\n",
    "\n",
    "# Создание и настройка модели\n",
    "model = SSD300(pretrained_backbone=True).to(device)\n",
    "\n",
    "# Оптимизатор Adam\n",
    "optimizer = torch.optim.Adam(model.parameters(), lr=0.001)\n",
    "\n",
    "# Функция потерь с учетом IoU\n",
    "criterion = Loss(iou_threshold=iou_threshold)\n",
    "\n",
    "# Функция для загрузки и преобразования данных\n",
    "def get_data_loader(img_size, batch_size):\n",
    "    transform = transforms.Compose([\n",
    "        transforms.Resize((img_size, img_size)),\n",
    "        transforms.ToTensor(),\n",
    "        # Добавьте дополнительные преобразования при необходимости\n",
    "    ])\n",
    "\n",
    "    # Загрузка датасета\n",
    "    dataset = datasets.ImageFolder(dataset_path, transform=transform)\n",
    "    data_loader = DataLoader(dataset, batch_size=batch_size, shuffle=True)\n",
    "    return data_loader\n",
    "\n",
    "# Обучение модели\n",
    "def train(model, data_loader, optimizer, criterion, epochs, device, save_path):\n",
    "    model.train()\n",
    "    for epoch in range(epochs):\n",
    "        for images, labels in data_loader:\n",
    "            images, labels = images.to(device), labels.to(device)\n",
    "\n",
    "            # Очистка градиентов\n",
    "            optimizer.zero_grad()\n",
    "\n",
    "            # Прямой проход\n",
    "            outputs = model(images)\n",
    "\n",
    "            # Расчет потерь\n",
    "            loss = criterion(outputs, labels)\n",
    "\n",
    "            # Обратный проход и оптимизация\n",
    "            loss.backward()\n",
    "            optimizer.step()\n",
    "\n",
    "        # Сохранение модели после каждой эпохи\n",
    "        save_model(epoch, model, save_path)\n",
    "\n",
    "        print(f'Epoch [{epoch+1}/{epochs}], Loss: {loss.item():.4f}')\n",
    "\n",
    "# Подготовка данных и запуск обучения\n",
    "data_loader = get_data_loader(img_size, batch_size=32)\n",
    "model_save_path = '/content/drive/My Drive/Университет ИИ/Стажировка/Weights/YourModel'\n",
    "train(model, data_loader, optimizer, criterion, epochs, device, model_save_path)\n"
   ],
   "metadata": {
    "collapsed": false
   }
  }
 ],
 "metadata": {
  "kernelspec": {
   "display_name": "Python 3",
   "language": "python",
   "name": "python3"
  },
  "language_info": {
   "codemirror_mode": {
    "name": "ipython",
    "version": 2
   },
   "file_extension": ".py",
   "mimetype": "text/x-python",
   "name": "python",
   "nbconvert_exporter": "python",
   "pygments_lexer": "ipython2",
   "version": "2.7.6"
  }
 },
 "nbformat": 4,
 "nbformat_minor": 0
}
