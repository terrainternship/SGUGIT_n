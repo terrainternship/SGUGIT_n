{
  "nbformat": 4,
  "nbformat_minor": 0,
  "metadata": {
    "colab": {
      "provenance": []
    },
    "kernelspec": {
      "name": "python3",
      "display_name": "Python 3"
    },
    "language_info": {
      "name": "python"
    }
  },
  "cells": [
    {
      "cell_type": "code",
      "execution_count": null,
      "metadata": {
        "id": "W0dtHyWk92Iy"
      },
      "outputs": [],
      "source": []
    },
    {
      "cell_type": "markdown",
      "source": [
        "Приведение наименований картинок и аннотаций к исходному после работы в робофлоу"
      ],
      "metadata": {
        "id": "P2MmHNoD95IX"
      }
    },
    {
      "cell_type": "code",
      "source": [
        "import os\n",
        "\n",
        "from google.colab import drive\n",
        "drive.mount('/content/drive/')\n",
        "\n",
        "# вывести текущую папку\n",
        "# print(\"Текущая папка:\", os.getcwd())"
      ],
      "metadata": {
        "colab": {
          "base_uri": "https://localhost:8080/"
        },
        "id": "x97fOKH6-UHw",
        "outputId": "a39601cc-a5fe-478f-c738-55e5e7c13ca7"
      },
      "execution_count": null,
      "outputs": [
        {
          "output_type": "stream",
          "name": "stdout",
          "text": [
            "Drive already mounted at /content/drive/; to attempt to forcibly remount, call drive.mount(\"/content/drive/\", force_remount=True).\n"
          ]
        }
      ]
    },
    {
      "cell_type": "markdown",
      "source": [
        "# Новый раздел"
      ],
      "metadata": {
        "id": "JPDxUf5SYh3L"
      }
    },
    {
      "cell_type": "code",
      "source": [
        "# Переименование файлов после робофлоу\n",
        "# Arc Аркадий Соловьев\n",
        "# Установить адрес папки с тренировочным, проверочным или тестовым набором\n",
        "# файлов картинок или аннотаций\n",
        "os.chdir(\"/content/drive/MyDrive/labels 3\")\n",
        "print(\"Текущая папка:\", os.getcwd())\n",
        "\n",
        "old_file = []        # Список исходных файлов\n",
        "new_file = []        # Список переименованных файлов\n",
        "old_file = os.listdir()  # Записать в переменную список всех файлов в папке\n",
        "\n",
        "old_file.sort(reverse=False) # Отсортировать файлы по возрастанию\n",
        "\n",
        "# Определение длины имени исходного файла len_of_file без расширения\n",
        "for i in range(len(old_file[0])):\n",
        "    if old_file[0][i: i + 4] == \"_png\":  # Индикатор конца имени исходного файла\n",
        "        len_of_file = i       # Длина имени исходного файла без расширения\n",
        "        break                 # Выйти из цикла\n",
        "\n",
        "# Определение числа файлов n_duble_file с одинаковыми именами\n",
        "duble_file = old_file[0][: len_of_file] # Обрезать первый файл в исходном списке\n",
        "n_duble_file = 0\n",
        "# Посчитать число файлов с повторяющимися именами n_duble_file в исходном списке\n",
        "while duble_file == old_file[n_duble_file][: len_of_file]:\n",
        "    n_duble_file += 1\n",
        "\n",
        "# print(n_duble_file)  # Число файлов с одинаковыми именами\n",
        "\n",
        "# Обрезать имя файла и добавить к повторяющимся файлам индекс в конце (_1)\n",
        "j = 0   # Индекс повторяющегося имени файла\n",
        "for i in range(len(old_file)):\n",
        "    # Записать новое имя файла, в конце добавить \"_\",\n",
        "    # номер повторяющегося имени файла str(j) и расширение файла old_file[0][-4:]\n",
        "    # такое же, как и у первого исходного файла: \".jpg\" или \".txt\"\n",
        "    if n_duble_file >= 2:  # Если есть повторяющиеся файлы, то добавить номер файла str(j)\n",
        "        new_file.append(old_file[i][:len_of_file] + \"_\" + str(j) + old_file[0][-4:])\n",
        "        j += 1      # Увеличить индекс повторяющегося названия файла\n",
        "        if j == n_duble_file:   # Если файлы с повторяющимися именами закончились\n",
        "            j = 0               # Обнуление индекса повторяющегося имени файла\n",
        "    else:   # Если повторяющихся файлов нет (проверочная или тестовая выборка)\n",
        "        # Просто обрезать имя файла и добавить к нему расширение\n",
        "        new_file.append(old_file[i][:len_of_file] + old_file[0][-4:])\n",
        "\n",
        "    os.rename(old_file[i], new_file[i])  # Переименовать файлы в папке\n",
        "    print(f'i = {i}  {new_file[i]}')"
      ],
      "metadata": {
        "colab": {
          "base_uri": "https://localhost:8080/"
        },
        "id": "Bw57DM8E_hbD",
        "outputId": "304f7b5b-a8fb-4764-f458-5b2b6537e8d7"
      },
      "execution_count": null,
      "outputs": [
        {
          "output_type": "stream",
          "name": "stdout",
          "text": [
            "Текущая папка: /content/drive/MyDrive/labels 3\n",
            "i = 0  unique_frame_2522.txt\n",
            "i = 1  unique_frame_2561.txt\n",
            "i = 2  unique_frame_2579.txt\n",
            "i = 3  unique_frame_2689.txt\n"
          ]
        }
      ]
    }
  ]
}