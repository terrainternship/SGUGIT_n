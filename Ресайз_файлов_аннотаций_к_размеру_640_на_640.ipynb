{
  "nbformat": 4,
  "nbformat_minor": 0,
  "metadata": {
    "colab": {
      "provenance": []
    },
    "kernelspec": {
      "name": "python3",
      "display_name": "Python 3"
    },
    "language_info": {
      "name": "python"
    }
  },
  "cells": [
    {
      "cell_type": "code",
      "execution_count": null,
      "metadata": {
        "id": "9Hkxk_f9Xyuz",
        "colab": {
          "base_uri": "https://localhost:8080/"
        },
        "outputId": "d973df12-019b-49b3-afc5-41bea9ea6392"
      },
      "outputs": [
        {
          "output_type": "stream",
          "name": "stdout",
          "text": [
            "Mounted at /content/drive/\n"
          ]
        }
      ],
      "source": [
        "import os\n",
        "from google.colab import drive\n",
        "drive.mount('/content/drive/')"
      ]
    },
    {
      "cell_type": "code",
      "source": [
        "# ARC Аркадий Соловьев\n",
        "# Скрипт преобразования файлов аннотаций для ресайза кадров имеющих размер 1920 на 1080\n",
        "# в размер кадра 640 на 640 с верхней и нижней черными полосами\n",
        "\n",
        "# Указать путь к папке с исходными аннотациями\n",
        "labels_folder = \"/content/drive/MyDrive/1 Исходные файлы для Датасета 4.0/medium/train/labels\"\n",
        "# Указать путь к папке для новых аннотаций\n",
        "new_labels_folder = \"/content/drive/MyDrive/1 Датасет 4.0/medium/train/labels\"\n",
        "\n",
        "# Размеры входного кадра\n",
        "input_width, input_height = 1920, 1080\n",
        "\n",
        "# Размеры выходного кадра 640 на  640 при резайзе с сохранением пропорций\n",
        "# Рассчитываем пропорциональное изменение размера\n",
        "output_width = 640\n",
        "output_height = int(input_height * output_width / input_width)\n",
        "\n",
        "# Создать новую папку, если она не существует и удалить, если существует\n",
        "if os.path.exists(new_labels_folder): # Если папка существует\n",
        "    # Получаем список файлов в папке\n",
        "    file_list = os.listdir(new_labels_folder)\n",
        "    # Проходим по каждому файлу и удаляем его\n",
        "    for file_name in file_list:\n",
        "        file_path = os.path.join(new_labels_folder, file_name)\n",
        "        if os.path.isfile(file_path):\n",
        "            os.remove(file_path)           # Удалить файл\n",
        "    os.rmdir(new_labels_folder)            # удалить папку\n",
        "if not os.path.exists(new_labels_folder):  # Если папка не существует\n",
        "    os.makedirs(new_labels_folder)         # создать папку\n",
        "\n",
        "# Обработка каждого файла аннотаций\n",
        "for filename in os.listdir(labels_folder):  # Проход по всем файлам папки\n",
        "    if filename.endswith(\".txt\"):           # Проверка окончания имени файла\n",
        "        file_path = os.path.join(labels_folder, filename) # Путь к файлу\n",
        "        new_file_prefix = os.path.splitext(filename)[0]   # Скопировать и сохранить имя исходного файла\n",
        "\n",
        "        with open(file_path, \"r\") as file:  # Открыть файл для чтения\n",
        "            annotations = file.readlines()  # Читать строки (аннотации)\n",
        "    class_n = []    # Список номеров классов\n",
        "    polygons = []   # Список новых полигонов для кадра 640 на 640\n",
        "    for i, annotation in enumerate(annotations):  # Проход по всем строкам (полигонам) файла аннотаций\n",
        "        annotation = annotation.strip()           # Убрать начальные и оконечные пробелы в строке\n",
        "        # Прочитать имя класса и координаты\n",
        "        class_id, *coordinates = map(float, annotation.split())\n",
        "        class_n.append(class_id)   # Заполнение списка номеров классов\n",
        "        # Координаты x y полигонов\n",
        "        polygon_coords = [(coordinates[j], coordinates[j + 1]) for j in range(0, len(coordinates), 2)]\n",
        "\n",
        "        new_coords = [] # Список новых координат вершин полигонов в долях кадра 640 на 640 с черными полосами после ресайза\n",
        "        for coord in polygon_coords:    # Проходим по координатам\n",
        "            x_new = coord[0]   # Координаты x в долях кадра 640 на 640 не изменились\n",
        "            y_new = ((coord[1] * 360) + 140) / 640  # Пересчет по Y в долях кадра 640 на 640\n",
        "            # output_height = 360 высота кадра после ресайза при ширине кадра 640, 140 - ширина черной полосы сверху и снизу кадра\n",
        "            new_coords.append(f\"{x_new} {y_new}\") # Координаты в долях кадра 640 на 640\n",
        "        polygons.append(' '.join(new_coords)) # Запись строк (полигонов)\n",
        "\n",
        "    # Запись полигонов в файлы аннотации с расширением \"_0.txt\", resize кадр\n",
        "    for i, polygon in enumerate(polygons):    # Проходим по строкам (полигонам)\n",
        "        new_file_path = os.path.join(new_labels_folder, f\"{new_file_prefix}_0.txt\") # Формирование пути к записываемым файлам\n",
        "        with open(new_file_path, \"a\") as new_file:               # Открыть файл для записи\n",
        "            new_file.write(f\"{int(class_n[i])} {polygon}\\n\")     # Запись файла\n"
      ],
      "metadata": {
        "id": "pBUg9LUCYBTH"
      },
      "execution_count": null,
      "outputs": []
    }
  ]
}