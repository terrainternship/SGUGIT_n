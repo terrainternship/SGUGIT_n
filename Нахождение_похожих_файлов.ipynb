{
  "nbformat": 4,
  "nbformat_minor": 0,
  "metadata": {
    "colab": {
      "provenance": []
    },
    "kernelspec": {
      "name": "python3",
      "display_name": "Python 3"
    },
    "language_info": {
      "name": "python"
    }
  },
  "cells": [
    {
      "cell_type": "code",
      "execution_count": null,
      "metadata": {
        "id": "vrhfysCVyUlz"
      },
      "outputs": [],
      "source": [
        "# pip install opencv-python opencv-python-headless scikit-image"
      ]
    },
    {
      "cell_type": "markdown",
      "source": [
        "Программа нахождения различающихся кадров"
      ],
      "metadata": {
        "id": "-Nk7TYnsWkAQ"
      }
    },
    {
      "cell_type": "code",
      "source": [
        "import os\n",
        "import cv2\n",
        "from skimage.metrics import structural_similarity as ssim\n",
        "from google.colab import drive   # Подключение диска\n",
        "drive.mount('/content/drive/')   # Подключить диск\n"
      ],
      "metadata": {
        "id": "qtMORwHCydJ8"
      },
      "execution_count": null,
      "outputs": []
    },
    {
      "cell_type": "code",
      "source": [
        "# Программа проходит по всем файлам в указанной папке, сравнивает каждый кадр с предыдущим и сохраняет только те кадры,\n",
        "# которые имеют достаточно низкую степень сходства с предыдущим кадром, определенную пороговым значением similarity_threshold\n",
        "# Arc Аркадий Соловьев\n",
        "\n",
        "input_folder = '/content/drive/MyDrive/Colab Notebooks/Видео/NEW_zoomcam2'  # Заменить это на путь к нужной папке\n",
        "output_folder = '/content/drive/MyDrive/Непохожие файлы'                    # Папка для нового отфильтрованного датасета\n",
        "os.makedirs(output_folder, exist_ok=True)                                   # Создать выходную папку\n",
        "\n",
        "def image_similarity(image1, image2):\n",
        "    # Функция вычисляет структурный коэффициент схожести (SSI) между изображениями\n",
        "\n",
        "    return ssim(image1, image2, multichannel=True)  # Функция возвращает структурный коэффициент схожести\n",
        "\n",
        "def filter_duplicate_frames(input_folder, output_folder, similarity_threshold=0.9):\n",
        "    # Функция принимает 3 параметра; 1 - input_folder - папка с входными кадрами;\n",
        "    # 2 - output_folder - папка для сохранения отфильтрованных кадров;\n",
        "    # 3 - необязательный параметр, определяющий минимальное значение сходства для того, чтобы считать два кадра дубликатами.\n",
        "    # По умолчанию, это значение равно 0.9, в программе его можно заменить.\n",
        "    previous_frame = None # Эта строка инициализирует переменную previous_frame как None.\n",
        "                          # В эту переменную будет сохраняться предыдущий кадр для сравнения с текущим.\n",
        "\n",
        "    # Цикл перебирает все файлы в указанной input_folder (входной папке)\n",
        "    for filename in os.listdir(input_folder):\n",
        "        if filename.endswith(\".png\"):  # Эта строка проверяет, является ли файл PNG.\n",
        "                                       # Изменить формат файла, если он отличается от PNG\n",
        "            # Эта строка загружает текущий кадр изображения, используя OpenCV функцию imread,\n",
        "            # которая принимает путь к файлу и возвращает изображение в виде массива пикселей.\n",
        "            current_frame = cv2.imread(os.path.join(input_folder, filename))\n",
        "\n",
        "            # Если previous_frame равно None, значит это первый кадр в цикле.\n",
        "            if previous_frame is None:\n",
        "                previous_frame = current_frame # Сохраняем текущий кадр в переменную previous_frame\n",
        "                output_filename = os.path.join(output_folder, filename) # Создаем путь для сохранения кадра в выходную папку\n",
        "                cv2.imwrite(output_filename, current_frame) # Сохраняем текущий кадр в указанной выходной папке\n",
        "            else:\n",
        "                # Вычисляем степень сходства между предыдущим и текущим кадрами. Результат сохраняется в переменной similarity.\n",
        "                similarity = image_similarity(previous_frame, current_frame)\n",
        "\n",
        "                if similarity < similarity_threshold: # Если коэффициент схожести меньше порогового значения\n",
        "                    # Создаем путь для сохранения текущего кадра в выходную папку\n",
        "                    output_filename = os.path.join(output_folder, filename)\n",
        "                    cv2.imwrite(output_filename, current_frame) # Сохраняем текущий кадр в указанной выходной папке\n",
        "                    previous_frame = current_frame # Обновляем предыдущий кадр на текущий для следующей итерации цикла\n",
        "\n",
        "similarity_threshold = 0.9  # Настроить коэффициент схожести по своему усмотрению\n",
        "\n",
        "# Фильтрация похожих файлов\n",
        "filter_duplicate_frames(input_folder, output_folder, similarity_threshold)\n"
      ],
      "metadata": {
        "id": "XAVHd9HxyrJ8",
        "colab": {
          "base_uri": "https://localhost:8080/"
        },
        "outputId": "d1fb6960-d45e-4b9b-8a35-c3d9fbac5c85"
      },
      "execution_count": null,
      "outputs": [
        {
          "metadata": {
            "tags": null
          },
          "name": "stderr",
          "output_type": "stream",
          "text": [
            "<ipython-input-31-09604ef5c1a7>:10: FutureWarning: `multichannel` is a deprecated argument name for `structural_similarity`. It will be removed in version 1.0. Please use `channel_axis` instead.\n",
            "  return ssim(image1, image2, multichannel=True)  # similarity = ssim(image1, image2, win_size=(5, 5))  1080, 1920\n"
          ]
        }
      ]
    },
    {
      "cell_type": "markdown",
      "source": [
        "Метрика SSI (Structural Similarity Index) используется для измерения структурного сходства между двумя изображениями. Она предоставляет числовую оценку, насколько изображения похожи друг на друга с точки зрения их структуры. SSI считается более точным и информативным в сравнении с простым сравнением пикселей или среднеквадратичным отклонением, так как учитывает восприятие человека и структурные особенности изображений.\n",
        "\n",
        "SSI вычисляется на основе трех ключевых компонентов:\n",
        "\n",
        "Яркость (L): Изображения сначала преобразуются в черно-белый формат (оттенки серого), чтобы учесть только информацию о яркости пикселей. Это делается потому, что структурное сходство не зависит от цвета.\n",
        "\n",
        "Контраст (C): Оценка различия в контрасте между двумя изображениями. Она измеряется как стандартное отклонение значений пикселей.\n",
        "\n",
        "Структура (S): Эта часть SSI измеряет, насколько структура изображения (текстуры, детали и т. д.) воспринимается человеческим зрением. Для этого используется метод сравнения блоков изображения, где каждое изображение разбивается на множество небольших блоков, и сравниваются соответствующие блоки между изображениями.\n",
        "\n",
        "SSI вычисляется как комбинация этих компонентов и предоставляет значение в диапазоне от -1 до 1, где:\n",
        "\n",
        "Значение 1 указывает на полное сходство между изображениями.\n",
        "Значение 0 указывает на полное отсутствие сходства.\n",
        "Значение -1 указывает на полную противоположность."
      ],
      "metadata": {
        "id": "oSGHVvGXzgqr"
      }
    }
  ]
}