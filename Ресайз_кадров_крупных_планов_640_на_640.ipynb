{
  "nbformat": 4,
  "nbformat_minor": 0,
  "metadata": {
    "colab": {
      "provenance": []
    },
    "kernelspec": {
      "name": "python3",
      "display_name": "Python 3"
    },
    "language_info": {
      "name": "python"
    }
  },
  "cells": [
    {
      "cell_type": "code",
      "source": [
        "# Подключение библиотек\n",
        "import cv2\n",
        "import os\n",
        "\n",
        "from google.colab import drive\n",
        "drive.mount('/content/drive/')"
      ],
      "metadata": {
        "colab": {
          "base_uri": "https://localhost:8080/"
        },
        "id": "I32SDquKeYPb",
        "outputId": "377621ea-b0a7-4d7e-b0cb-51d1339ade18"
      },
      "execution_count": null,
      "outputs": [
        {
          "output_type": "stream",
          "name": "stdout",
          "text": [
            "Mounted at /content/drive/\n"
          ]
        }
      ]
    },
    {
      "cell_type": "code",
      "execution_count": null,
      "metadata": {
        "id": "VLTrJ61peKe3"
      },
      "outputs": [],
      "source": [
        "# ARC Аркадий Соловьев\n",
        "# Скрипт ресайза кадров крупного плана без нарезки кадров\n",
        "# Преобразование кадров к размеру 640х640 из входного размера 1920х1080\n",
        "# с сохранение пропорций кадра. Сверху и снизу черные полосы.\n",
        "\n",
        "# Пути к входным и выходным папкам\n",
        "input_dir = '/content/drive/MyDrive/1 Исходные файлы для Датасета 4.0/medium/train/images'\n",
        "output_dir = '/content/drive/MyDrive/1 Датасет 4.0/medium/train/images'\n",
        "\n",
        "# Размеры входного кадра\n",
        "input_width, input_height = 1920, 1080\n",
        "\n",
        "# Размеры выходного кадра 640 на  640 при резайзе с сохранением пропорций\n",
        "# Рассчитываем пропорциональное изменение размера\n",
        "output_width = 640\n",
        "output_height = int(input_height * output_width / input_width)\n",
        "\n",
        "# Создать новую папку, если она не существует и удалить, если существует\n",
        "if os.path.exists(output_dir): # Если папка существует\n",
        "    # Получаем список файлов в папке\n",
        "    file_list = os.listdir(output_dir)\n",
        "    # Проходим по каждому файлу и удаляем его\n",
        "    for file_name in file_list:\n",
        "        file_path = os.path.join(output_dir, file_name)\n",
        "        if os.path.isfile(file_path):\n",
        "            os.remove(file_path)           # Удалить файл\n",
        "    os.rmdir(output_dir)            # удалить папку\n",
        "if not os.path.exists(output_dir):  # Если папка не существует\n",
        "    os.makedirs(output_dir)         # создать папку\n",
        "\n",
        "\n",
        "\n",
        "# Обход исходных кадров и создание resize кадров\n",
        "for filename in os.listdir(input_dir):\n",
        "    if filename.endswith('.jpg') or filename.endswith('.png'):\n",
        "        input_path = os.path.join(input_dir, filename)\n",
        "        input_frame = cv2.imread(input_path)\n",
        "\n",
        "        # Изменяем размер изображения с сохранением пропорций\n",
        "        output_frames = cv2.resize(input_frame, (output_width, output_height))\n",
        "\n",
        "        # Создаем пустое изображение с черными полосами сверху и снизу\n",
        "        final_image = cv2.copyMakeBorder(output_frames, (640 - output_height) // 2, (640 - output_height) // 2, 0, 0, cv2.BORDER_CONSTANT, value=[0, 0, 0])\n",
        "\n",
        "        # Сохранение выходных кадров\n",
        "        if filename.endswith('.png'):\n",
        "            output_filename = f\"{os.path.splitext(filename)[0]}_0.png\"\n",
        "        if filename.endswith('.jpg'):\n",
        "            output_filename = f\"{os.path.splitext(filename)[0]}_0.jpg\"\n",
        "        # Путь к папке с сохраняемыми файлами\n",
        "        output_path = os.path.join(output_dir, output_filename)\n",
        "        # Сохранение преобразованного  resize изображения\n",
        "        cv2.imwrite(output_path, final_image)# Пути к исходным и выходным папкам\n"
      ]
    }
  ]
}